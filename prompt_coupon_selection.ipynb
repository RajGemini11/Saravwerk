{
 "cells": [
  {
   "cell_type": "markdown",
   "id": "1641428e",
   "metadata": {},
   "source": [
    "### Required Assignment 5.1: Will the Customer Accept the Coupon?\n",
    "\n",
    "**Context**\n",
    "\n",
    "Imagine driving through town and a coupon is delivered to your cell phone for a restaurant near where you are driving. Would you accept that coupon and take a short detour to the restaurant? Would you accept the coupon but use it on a subsequent trip? Would you ignore the coupon entirely? What if the coupon was for a bar instead of a restaurant? What about a coffee house? Would you accept a bar coupon with a minor passenger in the car? What about if it was just you and your partner in the car? Would weather impact the rate of acceptance? What about the time of day?\n",
    "\n",
    "Obviously, proximity to the business is a factor on whether the coupon is delivered to the driver or not, but what are the factors that determine whether a driver accepts the coupon once it is delivered to them? How would you determine whether a driver is likely to accept a coupon?\n",
    "\n",
    "**Overview**\n",
    "\n",
    "The goal of this project is to use what you know about visualizations and probability distributions to distinguish between customers who accepted a driving coupon versus those that did not.\n",
    "\n",
    "**Data**\n",
    "\n",
    "This data comes to us from the UCI Machine Learning repository and was collected via a survey on Amazon Mechanical Turk. The survey describes different driving scenarios including the destination, current time, weather, passenger, etc., and then ask the person whether he will accept the coupon if he is the driver. Answers that the user will drive there ‘right away’ or ‘later before the coupon expires’ are labeled as ‘Y = 1’ and answers ‘no, I do not want the coupon’ are labeled as ‘Y = 0’.  There are five different types of coupons -- less expensive restaurants (under \\$20), coffee houses, carry out & take away, bar, and more expensive restaurants (\\$20 - $50)."
   ]
  },
  {
   "cell_type": "markdown",
   "id": "51ed070c",
   "metadata": {},
   "source": [
    "**Deliverables**\n",
    "\n",
    "Your final product should be a brief report that highlights the differences between customers who did and did not accept the coupons.  To explore the data you will utilize your knowledge of plotting, statistical summaries, and visualization using Python. You will publish your findings in a public facing github repository as your first portfolio piece.\n",
    "\n",
    "\n",
    "\n"
   ]
  },
  {
   "cell_type": "markdown",
   "id": "35e7f95a",
   "metadata": {},
   "source": [
    "### Data Description\n",
    "Keep in mind that these values mentioned below are average values.\n",
    "\n",
    "The attributes of this data set include:\n",
    "1. User attributes\n",
    "    -  Gender: male, female\n",
    "    -  Age: below 21, 21 to 25, 26 to 30, etc.\n",
    "    -  Marital Status: single, married partner, unmarried partner, or widowed\n",
    "    -  Number of children: 0, 1, or more than 1\n",
    "    -  Education: high school, bachelors degree, associates degree, or graduate degree\n",
    "    -  Occupation: architecture & engineering, business & financial, etc.\n",
    "    -  Annual income: less than \\\\$12500, \\\\$12500 - \\\\$ 24999, \\\\$ 25000 - \\\\$ 37499, etc.\n",
    "    -  Number of times that he/she goes to a bar: 0, less than 1, 1 to 3, 4 to 8 or greater than 8\n",
    "    -  Number of times that he/she buys takeaway food: 0, less than 1, 1 to 3, 4 to 8 or greater\n",
    "    than 8\n",
    "    -  Number of times that he/she goes to a coffee house: 0, less than 1, 1 to 3, 4 to 8 or\n",
    "    greater than 8\n",
    "    -  Number of times that he/she eats at a restaurant with average expense less than \\\\$20 per\n",
    "    person: 0, less than 1, 1 to 3, 4 to 8 or greater than 8\n",
    "    -  Number of times that he/she goes to a bar: 0, less than 1, 1 to 3, 4 to 8 or greater than 8\n",
    "    \n",
    "\n",
    "2. Contextual attributes\n",
    "    - Driving destination: home, work, or no urgent destination\n",
    "    - Location of user, coupon and destination: we provide a map to show the geographical\n",
    "    location of the user, destination, and the venue, and we mark the distance between each\n",
    "    two places with time of driving. The user can see whether the venue is in the same\n",
    "    direction as the destination.\n",
    "    - Weather: sunny, rainy, or snowy\n",
    "    - Temperature: 30F, 55F, or 80F\n",
    "    - Time: 10AM, 2PM, or 6PM\n",
    "    - Passenger: alone, partner, kid(s), or friend(s)\n",
    "\n",
    "\n",
    "3. Coupon attributes\n",
    "    - time before it expires: 2 hours or one day"
   ]
  },
  {
   "cell_type": "code",
   "execution_count": 24,
   "id": "7cf91a85",
   "metadata": {},
   "outputs": [],
   "source": [
    "import matplotlib.pyplot as plt\n",
    "import seaborn as sns\n",
    "import pandas as pd\n",
    "import numpy as np"
   ]
  },
  {
   "cell_type": "markdown",
   "id": "4f75fae4",
   "metadata": {},
   "source": [
    "### Problems\n",
    "\n",
    "Use the prompts below to get started with your data analysis.  \n",
    "\n",
    "1. Read in the `coupons.csv` file.\n",
    "\n",
    "\n"
   ]
  },
  {
   "cell_type": "code",
   "execution_count": 25,
   "id": "d34ce3a3",
   "metadata": {},
   "outputs": [],
   "source": [
    "data = pd.read_csv(\"C:/Users/Raj03/Downloads/assignment5_1_starter/data/Coupons.csv\")"
   ]
  },
  {
   "cell_type": "code",
   "execution_count": 26,
   "id": "7896358e",
   "metadata": {},
   "outputs": [
    {
     "data": {
      "text/html": [
       "<div>\n",
       "<style scoped>\n",
       "    .dataframe tbody tr th:only-of-type {\n",
       "        vertical-align: middle;\n",
       "    }\n",
       "\n",
       "    .dataframe tbody tr th {\n",
       "        vertical-align: top;\n",
       "    }\n",
       "\n",
       "    .dataframe thead th {\n",
       "        text-align: right;\n",
       "    }\n",
       "</style>\n",
       "<table border=\"1\" class=\"dataframe\">\n",
       "  <thead>\n",
       "    <tr style=\"text-align: right;\">\n",
       "      <th></th>\n",
       "      <th>destination</th>\n",
       "      <th>passanger</th>\n",
       "      <th>weather</th>\n",
       "      <th>temperature</th>\n",
       "      <th>time</th>\n",
       "      <th>coupon</th>\n",
       "      <th>expiration</th>\n",
       "      <th>gender</th>\n",
       "      <th>age</th>\n",
       "      <th>maritalStatus</th>\n",
       "      <th>...</th>\n",
       "      <th>CoffeeHouse</th>\n",
       "      <th>CarryAway</th>\n",
       "      <th>RestaurantLessThan20</th>\n",
       "      <th>Restaurant20To50</th>\n",
       "      <th>toCoupon_GEQ5min</th>\n",
       "      <th>toCoupon_GEQ15min</th>\n",
       "      <th>toCoupon_GEQ25min</th>\n",
       "      <th>direction_same</th>\n",
       "      <th>direction_opp</th>\n",
       "      <th>Y</th>\n",
       "    </tr>\n",
       "  </thead>\n",
       "  <tbody>\n",
       "    <tr>\n",
       "      <th>0</th>\n",
       "      <td>No Urgent Place</td>\n",
       "      <td>Alone</td>\n",
       "      <td>Sunny</td>\n",
       "      <td>55</td>\n",
       "      <td>2PM</td>\n",
       "      <td>Restaurant(&lt;20)</td>\n",
       "      <td>1d</td>\n",
       "      <td>Female</td>\n",
       "      <td>21</td>\n",
       "      <td>Unmarried partner</td>\n",
       "      <td>...</td>\n",
       "      <td>never</td>\n",
       "      <td>NaN</td>\n",
       "      <td>4~8</td>\n",
       "      <td>1~3</td>\n",
       "      <td>1</td>\n",
       "      <td>0</td>\n",
       "      <td>0</td>\n",
       "      <td>0</td>\n",
       "      <td>1</td>\n",
       "      <td>1</td>\n",
       "    </tr>\n",
       "    <tr>\n",
       "      <th>1</th>\n",
       "      <td>No Urgent Place</td>\n",
       "      <td>Friend(s)</td>\n",
       "      <td>Sunny</td>\n",
       "      <td>80</td>\n",
       "      <td>10AM</td>\n",
       "      <td>Coffee House</td>\n",
       "      <td>2h</td>\n",
       "      <td>Female</td>\n",
       "      <td>21</td>\n",
       "      <td>Unmarried partner</td>\n",
       "      <td>...</td>\n",
       "      <td>never</td>\n",
       "      <td>NaN</td>\n",
       "      <td>4~8</td>\n",
       "      <td>1~3</td>\n",
       "      <td>1</td>\n",
       "      <td>0</td>\n",
       "      <td>0</td>\n",
       "      <td>0</td>\n",
       "      <td>1</td>\n",
       "      <td>0</td>\n",
       "    </tr>\n",
       "    <tr>\n",
       "      <th>2</th>\n",
       "      <td>No Urgent Place</td>\n",
       "      <td>Friend(s)</td>\n",
       "      <td>Sunny</td>\n",
       "      <td>80</td>\n",
       "      <td>10AM</td>\n",
       "      <td>Carry out &amp; Take away</td>\n",
       "      <td>2h</td>\n",
       "      <td>Female</td>\n",
       "      <td>21</td>\n",
       "      <td>Unmarried partner</td>\n",
       "      <td>...</td>\n",
       "      <td>never</td>\n",
       "      <td>NaN</td>\n",
       "      <td>4~8</td>\n",
       "      <td>1~3</td>\n",
       "      <td>1</td>\n",
       "      <td>1</td>\n",
       "      <td>0</td>\n",
       "      <td>0</td>\n",
       "      <td>1</td>\n",
       "      <td>1</td>\n",
       "    </tr>\n",
       "    <tr>\n",
       "      <th>3</th>\n",
       "      <td>No Urgent Place</td>\n",
       "      <td>Friend(s)</td>\n",
       "      <td>Sunny</td>\n",
       "      <td>80</td>\n",
       "      <td>2PM</td>\n",
       "      <td>Coffee House</td>\n",
       "      <td>2h</td>\n",
       "      <td>Female</td>\n",
       "      <td>21</td>\n",
       "      <td>Unmarried partner</td>\n",
       "      <td>...</td>\n",
       "      <td>never</td>\n",
       "      <td>NaN</td>\n",
       "      <td>4~8</td>\n",
       "      <td>1~3</td>\n",
       "      <td>1</td>\n",
       "      <td>1</td>\n",
       "      <td>0</td>\n",
       "      <td>0</td>\n",
       "      <td>1</td>\n",
       "      <td>0</td>\n",
       "    </tr>\n",
       "    <tr>\n",
       "      <th>4</th>\n",
       "      <td>No Urgent Place</td>\n",
       "      <td>Friend(s)</td>\n",
       "      <td>Sunny</td>\n",
       "      <td>80</td>\n",
       "      <td>2PM</td>\n",
       "      <td>Coffee House</td>\n",
       "      <td>1d</td>\n",
       "      <td>Female</td>\n",
       "      <td>21</td>\n",
       "      <td>Unmarried partner</td>\n",
       "      <td>...</td>\n",
       "      <td>never</td>\n",
       "      <td>NaN</td>\n",
       "      <td>4~8</td>\n",
       "      <td>1~3</td>\n",
       "      <td>1</td>\n",
       "      <td>1</td>\n",
       "      <td>0</td>\n",
       "      <td>0</td>\n",
       "      <td>1</td>\n",
       "      <td>0</td>\n",
       "    </tr>\n",
       "  </tbody>\n",
       "</table>\n",
       "<p>5 rows × 26 columns</p>\n",
       "</div>"
      ],
      "text/plain": [
       "       destination  passanger weather  temperature  time  \\\n",
       "0  No Urgent Place      Alone   Sunny           55   2PM   \n",
       "1  No Urgent Place  Friend(s)   Sunny           80  10AM   \n",
       "2  No Urgent Place  Friend(s)   Sunny           80  10AM   \n",
       "3  No Urgent Place  Friend(s)   Sunny           80   2PM   \n",
       "4  No Urgent Place  Friend(s)   Sunny           80   2PM   \n",
       "\n",
       "                  coupon expiration  gender age      maritalStatus  ...  \\\n",
       "0        Restaurant(<20)         1d  Female  21  Unmarried partner  ...   \n",
       "1           Coffee House         2h  Female  21  Unmarried partner  ...   \n",
       "2  Carry out & Take away         2h  Female  21  Unmarried partner  ...   \n",
       "3           Coffee House         2h  Female  21  Unmarried partner  ...   \n",
       "4           Coffee House         1d  Female  21  Unmarried partner  ...   \n",
       "\n",
       "   CoffeeHouse CarryAway RestaurantLessThan20 Restaurant20To50  \\\n",
       "0        never       NaN                  4~8              1~3   \n",
       "1        never       NaN                  4~8              1~3   \n",
       "2        never       NaN                  4~8              1~3   \n",
       "3        never       NaN                  4~8              1~3   \n",
       "4        never       NaN                  4~8              1~3   \n",
       "\n",
       "  toCoupon_GEQ5min toCoupon_GEQ15min toCoupon_GEQ25min direction_same  \\\n",
       "0                1                 0                 0              0   \n",
       "1                1                 0                 0              0   \n",
       "2                1                 1                 0              0   \n",
       "3                1                 1                 0              0   \n",
       "4                1                 1                 0              0   \n",
       "\n",
       "  direction_opp  Y  \n",
       "0             1  1  \n",
       "1             1  0  \n",
       "2             1  1  \n",
       "3             1  0  \n",
       "4             1  0  \n",
       "\n",
       "[5 rows x 26 columns]"
      ]
     },
     "execution_count": 26,
     "metadata": {},
     "output_type": "execute_result"
    }
   ],
   "source": [
    "data.head()"
   ]
  },
  {
   "cell_type": "markdown",
   "id": "f6d36333",
   "metadata": {},
   "source": [
    "2. Investigate the dataset for missing or problematic data."
   ]
  },
  {
   "cell_type": "code",
   "execution_count": 27,
   "id": "f45f7992",
   "metadata": {},
   "outputs": [
    {
     "data": {
      "text/plain": [
       "destination                 0\n",
       "passanger                   0\n",
       "weather                     0\n",
       "temperature                 0\n",
       "time                        0\n",
       "coupon                      0\n",
       "expiration                  0\n",
       "gender                      0\n",
       "age                         0\n",
       "maritalStatus               0\n",
       "has_children                0\n",
       "education                   0\n",
       "occupation                  0\n",
       "income                      0\n",
       "car                     12576\n",
       "Bar                       107\n",
       "CoffeeHouse               217\n",
       "CarryAway                 151\n",
       "RestaurantLessThan20      130\n",
       "Restaurant20To50          189\n",
       "toCoupon_GEQ5min            0\n",
       "toCoupon_GEQ15min           0\n",
       "toCoupon_GEQ25min           0\n",
       "direction_same              0\n",
       "direction_opp               0\n",
       "Y                           0\n",
       "dtype: int64"
      ]
     },
     "execution_count": 27,
     "metadata": {},
     "output_type": "execute_result"
    }
   ],
   "source": [
    "data.isnull().sum()"
   ]
  },
  {
   "cell_type": "markdown",
   "id": "f6f821b3",
   "metadata": {},
   "source": [
    "3. Decide what to do about your missing data -- drop, replace, other..."
   ]
  },
  {
   "cell_type": "code",
   "execution_count": 28,
   "id": "66a35ef2",
   "metadata": {},
   "outputs": [
    {
     "name": "stdout",
     "output_type": "stream",
     "text": [
      "     Bar CoffeeHouse CarryAway RestaurantLessThan20 Restaurant20To50\n",
      "0  never       never     never                  4~8              1~3\n",
      "1  never       never     never                  4~8              1~3\n",
      "2  never       never     never                  4~8              1~3\n",
      "3  never       never     never                  4~8              1~3\n",
      "4  never       never     never                  4~8              1~3\n"
     ]
    }
   ],
   "source": [
    "visit_frequency_cols = [\n",
    "    'Bar',\n",
    "    'CoffeeHouse',\n",
    "    'CarryAway',\n",
    "    'RestaurantLessThan20',\n",
    "    'Restaurant20To50'\n",
    "]\n",
    "fill_value = 'never' \n",
    "data[visit_frequency_cols] = data[visit_frequency_cols].fillna(fill_value)\n",
    "print(data[visit_frequency_cols].head()) "
   ]
  },
  {
   "cell_type": "markdown",
   "id": "dbaea1d0",
   "metadata": {},
   "source": [
    "4. What proportion of the total observations chose to accept the coupon?\n",
    "\n"
   ]
  },
  {
   "cell_type": "code",
   "execution_count": 29,
   "id": "317c49a9",
   "metadata": {},
   "outputs": [
    {
     "data": {
      "text/plain": [
       "Y    0.568433\n",
       "dtype: float64"
      ]
     },
     "execution_count": 29,
     "metadata": {},
     "output_type": "execute_result"
    }
   ],
   "source": [
    "data[['Y']].mean()"
   ]
  },
  {
   "cell_type": "markdown",
   "id": "3fdd773e",
   "metadata": {},
   "source": [
    "5. Use a bar plot to visualize the `coupon` column."
   ]
  },
  {
   "cell_type": "code",
   "execution_count": 30,
   "id": "e39eebae",
   "metadata": {},
   "outputs": [
    {
     "data": {
      "image/png": "[encoded data removed]",
      "text/plain": [
       "<Figure size 800x500 with 1 Axes>"
      ]
     },
     "metadata": {},
     "output_type": "display_data"
    }
   ],
   "source": [
    "df5=data['coupon'].value_counts().plot(kind='bar', figsize=(8, 5), rot=45)\n",
    "plt.title('Frequency of Coupon Types')\n",
    "plt.xlabel('Coupon Type')\n",
    "plt.ylabel('Count')\n",
    "plt.show() "
   ]
  },
  {
   "cell_type": "markdown",
   "id": "58ed404d",
   "metadata": {},
   "source": [
    "6. Use a histogram to visualize the temperature column."
   ]
  },
  {
   "cell_type": "code",
   "execution_count": 31,
   "id": "c4356adf",
   "metadata": {},
   "outputs": [
    {
     "data": {
      "image/png": "[encoded data removed]",
      "text/plain": [
       "<Figure size 800x500 with 1 Axes>"
      ]
     },
     "metadata": {},
     "output_type": "display_data"
    }
   ],
   "source": [
    "plt.figure(figsize=(8, 5))\n",
    "\n",
    "sns.histplot(\n",
    "    data=data, \n",
    "    x='temperature', \n",
    "    discrete=True,  # Treats the numbers as categories (bins)\n",
    "    shrink=0.8,     # Adds a small gap between the bars\n",
    "    color='skyblue', \n",
    "    edgecolor='black'\n",
    ")\n",
    "\n",
    "plt.title('Distribution of Scenario Temperatures')\n",
    "plt.xlabel('Temperature (F)')\n",
    "plt.ylabel('Frequency (Number of Scenarios)')\n",
    "plt.xticks(data['temperature'].unique()) # Optional: Ensures only the data values appear on the x-axis\n",
    "plt.grid(axis='y', alpha=0.5)\n",
    "plt.show()"
   ]
  },
  {
   "cell_type": "code",
   "execution_count": null,
   "id": "736e76da",
   "metadata": {},
   "outputs": [],
   "source": []
  },
  {
   "cell_type": "code",
   "execution_count": null,
   "id": "23418eef",
   "metadata": {},
   "outputs": [],
   "source": []
  },
  {
   "cell_type": "code",
   "execution_count": null,
   "id": "0206d751",
   "metadata": {},
   "outputs": [],
   "source": []
  },
  {
   "cell_type": "code",
   "execution_count": null,
   "id": "e19e073f",
   "metadata": {},
   "outputs": [],
   "source": []
  },
  {
   "cell_type": "markdown",
   "id": "a9923338",
   "metadata": {},
   "source": [
    "**Investigating the Bar Coupons**\n",
    "\n",
    "\n",
    "Now, we will lead you through an exploration of just the bar related coupons.  \n",
    "\n",
    "1. Create a new `DataFrame` that contains just the bar coupons.\n"
   ]
  },
  {
   "cell_type": "code",
   "execution_count": 32,
   "id": "243b8005",
   "metadata": {},
   "outputs": [],
   "source": [
    "df_bar = data[data['coupon'] == 'Bar']"
   ]
  },
  {
   "cell_type": "markdown",
   "id": "496e56c4",
   "metadata": {},
   "source": [
    "2. What proportion of bar coupons were accepted?\n"
   ]
  },
  {
   "cell_type": "code",
   "execution_count": 33,
   "id": "d20ece32",
   "metadata": {},
   "outputs": [
    {
     "data": {
      "text/plain": [
       "np.float64(0.41001487357461575)"
      ]
     },
     "execution_count": 33,
     "metadata": {},
     "output_type": "execute_result"
    }
   ],
   "source": [
    "data[data['coupon'] == 'Bar']['Y'].mean()"
   ]
  },
  {
   "cell_type": "markdown",
   "id": "29ee8b09",
   "metadata": {},
   "source": [
    "3. Compare the acceptance rate between those who went to a bar 3 or fewer times a month to those who went more.\n"
   ]
  },
  {
   "cell_type": "code",
   "execution_count": 34,
   "id": "d7021a88",
   "metadata": {},
   "outputs": [
    {
     "data": {
      "text/plain": [
       "Bar\n",
       "False    0.622456\n",
       "True     0.561595\n",
       "Name: Y, dtype: float64"
      ]
     },
     "execution_count": 34,
     "metadata": {},
     "output_type": "execute_result"
    }
   ],
   "source": [
    "low_frequency_bar_visits = ['never', 'less1', '1~3']\n",
    "data.groupby(data['Bar'].isin(low_frequency_bar_visits))['Y'].mean()"
   ]
  },
  {
   "cell_type": "markdown",
   "id": "95d2e9df",
   "metadata": {},
   "source": [
    "4. Compare the acceptance rate between drivers who go to a bar more than once a month and are over the age of 25 to the all others.  Is there a difference?\n"
   ]
  },
  {
   "cell_type": "code",
   "execution_count": 35,
   "id": "aebc65d5",
   "metadata": {},
   "outputs": [
    {
     "data": {
      "text/plain": [
       "False    0.553548\n",
       "True     0.621534\n",
       "Name: Y, dtype: float64"
      ]
     },
     "execution_count": 35,
     "metadata": {},
     "output_type": "execute_result"
    }
   ],
   "source": [
    "bar_freq_more_than_once = ['1~3', '4~8', 'gt8']\n",
    "\n",
    "age_over_25 = ['26', '31', '36', '41', '46', '50plus']\n",
    "is_target_group = (\n",
    "    data['Bar'].isin(bar_freq_more_than_once) & \n",
    "    data['age'].isin(age_over_25)\n",
    ")\n",
    "data.groupby(is_target_group)['Y'].mean()"
   ]
  },
  {
   "cell_type": "markdown",
   "id": "c97032c7",
   "metadata": {},
   "source": [
    "5. Use the same process to compare the acceptance rate between drivers who go to bars more than once a month and had passengers that were not a kid and had occupations other than farming, fishing, or forestry.\n"
   ]
  },
  {
   "cell_type": "code",
   "execution_count": 36,
   "id": "4645ffb5",
   "metadata": {},
   "outputs": [
    {
     "data": {
      "text/plain": [
       "False    0.545950\n",
       "True     0.623106\n",
       "Name: Y, dtype: float64"
      ]
     },
     "execution_count": 36,
     "metadata": {},
     "output_type": "execute_result"
    }
   ],
   "source": [
    "# Define the conditions\n",
    "bar_freq_more_than_once = ['1~3', '4~8', 'gt8']\n",
    "passenger_not_kid = data['passanger'] != 'Kid(s)'\n",
    "occupation_not_ff = data['occupation'] != 'Farming Fishing & Forestry'\n",
    "\n",
    "# Create the combined Boolean condition using the AND operator (&)\n",
    "is_target_group = (\n",
    "    data['Bar'].isin(bar_freq_more_than_once) & \n",
    "    passenger_not_kid &\n",
    "    occupation_not_ff\n",
    ")\n",
    "\n",
    "# Group by the boolean Series and calculate the mean of 'Y'\n",
    "data.groupby(is_target_group)['Y'].mean()"
   ]
  },
  {
   "cell_type": "markdown",
   "id": "b7380127",
   "metadata": {},
   "source": [
    "6. Compare the acceptance rates between those drivers who:\n",
    "\n",
    "- go to bars more than once a month, had passengers that were not a kid, and were not widowed *OR*\n",
    "- go to bars more than once a month and are under the age of 30 *OR*\n",
    "- go to cheap restaurants more than 4 times a month and income is less than 50K.\n",
    "\n"
   ]
  },
  {
   "cell_type": "code",
   "execution_count": 37,
   "id": "38052e0a",
   "metadata": {},
   "outputs": [
    {
     "data": {
      "text/plain": [
       "False    0.543149\n",
       "True     0.605396\n",
       "Name: Y, dtype: float64"
      ]
     },
     "execution_count": 37,
     "metadata": {},
     "output_type": "execute_result"
    }
   ],
   "source": [
    "# --- Define common categories ---\n",
    "bar_freq_more_than_once = ['1~3', '4~8', 'gt8']\n",
    "age_under_30 = ['below21', '21', '26']\n",
    "rest_less_20_more_than_4 = ['4~8', 'gt8']\n",
    "income_less_than_50k = ['Less than $12500', '$12500 - $24999', '$25000 - $37499', '$37500 - $49999']\n",
    "\n",
    "# --- Define Condition A (AND) ---\n",
    "Condition_A = (\n",
    "    data['Bar'].isin(bar_freq_more_than_once) & \n",
    "    (data['passanger'] != 'Kid(s)') &\n",
    "    (data['maritalStatus'] != 'Widowed')\n",
    ")\n",
    "\n",
    "# --- Define Condition B (AND) ---\n",
    "Condition_B = (\n",
    "    data['Bar'].isin(bar_freq_more_than_once) & \n",
    "    data['age'].isin(age_under_30)\n",
    ")\n",
    "\n",
    "# --- Define Condition C (AND) ---\n",
    "Condition_C = (\n",
    "    data['RestaurantLessThan20'].isin(rest_less_20_more_than_4) & \n",
    "    data['income'].isin(income_less_than_50k)\n",
    ")\n",
    "\n",
    "# --- Combine all conditions with OR (|) ---\n",
    "is_target_group = Condition_A | Condition_B | Condition_C\n",
    "\n",
    "# --- Group by the boolean Series and calculate the mean of 'Y' ---\n",
    "data.groupby(is_target_group)['Y'].mean()"
   ]
  },
  {
   "cell_type": "markdown",
   "id": "f3d920ba",
   "metadata": {},
   "source": [
    "7.  Based on these observations, what do you hypothesize about drivers who accepted the bar coupons?"
   ]
  },
  {
   "cell_type": "code",
   "execution_count": 38,
   "id": "9c035934",
   "metadata": {},
   "outputs": [
    {
     "data": {
      "text/plain": [
       "' Hypothesis: Acceptance of bar coupons is a combination of high bar frequency and no minor passengers, right age. The coupon acts as a final nudge when a person is already inclined toward that type of destination and the circumstances permit a stop.'"
      ]
     },
     "execution_count": 38,
     "metadata": {},
     "output_type": "execute_result"
    }
   ],
   "source": [
    "data_hypo=\" Hypothesis: Acceptance of bar coupons is a combination of high bar frequency and no minor passengers, right age. The coupon acts as a final nudge when a person is already inclined toward that type of destination and the circumstances permit a stop.\"\n",
    "data_hypo"
   ]
  },
  {
   "cell_type": "markdown",
   "id": "7da92b45",
   "metadata": {},
   "source": [
    "### Independent Investigation\n",
    "\n",
    "Using the bar coupon example as motivation, you are to explore one of the other coupon groups and try to determine the characteristics of passengers who accept the coupons.  "
   ]
  },
  {
   "cell_type": "code",
   "execution_count": 39,
   "id": "bbd5ec49",
   "metadata": {},
   "outputs": [],
   "source": [
    "data_coffee = data[data['coupon'] == 'Coffee House'].copy()"
   ]
  },
  {
   "cell_type": "code",
   "execution_count": 40,
   "id": "95a70b49",
   "metadata": {},
   "outputs": [],
   "source": [
    "# Define the condition for high frequency coffee use\n",
    "is_high_frequency = data_coffee['CoffeeHouse'].isin(['1~3', '4~8', 'gt8'])\n",
    "\n",
    "# Group by the boolean condition and calculate the acceptance rate\n",
    "coffee_freq_comparison = data_coffee.groupby(is_high_frequency)['Y'].mean()"
   ]
  },
  {
   "cell_type": "code",
   "execution_count": 41,
   "id": "f0c70817",
   "metadata": {},
   "outputs": [
    {
     "data": {
      "text/html": [
       "<div>\n",
       "<style scoped>\n",
       "    .dataframe tbody tr th:only-of-type {\n",
       "        vertical-align: middle;\n",
       "    }\n",
       "\n",
       "    .dataframe tbody tr th {\n",
       "        vertical-align: top;\n",
       "    }\n",
       "\n",
       "    .dataframe thead th {\n",
       "        text-align: right;\n",
       "    }\n",
       "</style>\n",
       "<table border=\"1\" class=\"dataframe\">\n",
       "  <thead>\n",
       "    <tr style=\"text-align: right;\">\n",
       "      <th>destination</th>\n",
       "      <th>Home</th>\n",
       "      <th>No Urgent Place</th>\n",
       "      <th>Work</th>\n",
       "    </tr>\n",
       "    <tr>\n",
       "      <th>time</th>\n",
       "      <th></th>\n",
       "      <th></th>\n",
       "      <th></th>\n",
       "    </tr>\n",
       "  </thead>\n",
       "  <tbody>\n",
       "    <tr>\n",
       "      <th>10AM</th>\n",
       "      <td>0.000000</td>\n",
       "      <td>0.640712</td>\n",
       "      <td>0.000000</td>\n",
       "    </tr>\n",
       "    <tr>\n",
       "      <th>10PM</th>\n",
       "      <td>0.284974</td>\n",
       "      <td>0.682692</td>\n",
       "      <td>0.000000</td>\n",
       "    </tr>\n",
       "    <tr>\n",
       "      <th>2PM</th>\n",
       "      <td>0.000000</td>\n",
       "      <td>0.547859</td>\n",
       "      <td>0.000000</td>\n",
       "    </tr>\n",
       "    <tr>\n",
       "      <th>6PM</th>\n",
       "      <td>0.382313</td>\n",
       "      <td>0.474860</td>\n",
       "      <td>0.000000</td>\n",
       "    </tr>\n",
       "    <tr>\n",
       "      <th>7AM</th>\n",
       "      <td>0.000000</td>\n",
       "      <td>0.000000</td>\n",
       "      <td>0.445783</td>\n",
       "    </tr>\n",
       "  </tbody>\n",
       "</table>\n",
       "</div>"
      ],
      "text/plain": [
       "destination      Home  No Urgent Place      Work\n",
       "time                                            \n",
       "10AM         0.000000         0.640712  0.000000\n",
       "10PM         0.284974         0.682692  0.000000\n",
       "2PM          0.000000         0.547859  0.000000\n",
       "6PM          0.382313         0.474860  0.000000\n",
       "7AM          0.000000         0.000000  0.445783"
      ]
     },
     "execution_count": 41,
     "metadata": {},
     "output_type": "execute_result"
    }
   ],
   "source": [
    "time_dest_comparison = data_coffee.groupby(['time', 'destination'])['Y'].mean().unstack(fill_value=0)\n",
    "time_dest_comparison"
   ]
  },
  {
   "cell_type": "code",
   "execution_count": null,
   "id": "0e2b30e3",
   "metadata": {},
   "outputs": [
    {
     "data": {
      "text/plain": [
       "'Hypotheses for Coffee House Coupon Acceptors Drivers who accept Coffee House coupons are likely people whose need for coffee aligns with their existing travel routine or leisure time.Habitual Reinforcement: The primary characteristic is high coffee consumption frequency. For these users, the coupon functions as a valuable discount for a highly-desired product, not an incentive to change a destination or habit.Routine Fueling: Acceptance is elevated when the trip context suggests routine-based consumption (e.g., stopping for morning caffeine on the way to work at 7AM).Leisure Stop: Acceptance is highest when the driver has no fixed destination and the time is amenable to a pause (late morning or late night). The No Urgent Place finding suggests the coffee house is often the new destination, prompted solely by the coupon.'"
      ]
     },
     "execution_count": 42,
     "metadata": {},
     "output_type": "execute_result"
    }
   ],
   "source": [
    "Independent_investigation=\" Hypotheses for Coffee House Coupon Acceptors Drivers who accept Coffee House coupons are likely people whose need for coffee aligns with their existing travel routine or leisure time.Habitual Reinforcement: The primary characteristic is high coffee consumption frequency. For these users, the coupon functions as a valuable discount for a highly-desired product, not an incentive to change a destination or habit.Routine Fueling: Acceptance is elevated when the trip context suggests routine-based consumption (e.g., stopping for morning caffeine on the way to work at 7AM).Leisure Stop: Acceptance is highest when the driver has no fixed destination and the time is amenable to a pause (late morning or late night). The No Urgent Place finding suggests the coffee house is often the new destination, prompted solely by the coupon.\"\n",
    "Independent_investigation"
   ]
  },
  {
   "cell_type": "code",
   "execution_count": null,
   "id": "5fc4f556",
   "metadata": {},
   "outputs": [],
   "source": []
  },
  {
   "cell_type": "code",
   "execution_count": null,
   "id": "44b51182",
   "metadata": {},
   "outputs": [],
   "source": []
  },
  {
   "cell_type": "code",
   "execution_count": null,
   "id": "3abde197",
   "metadata": {},
   "outputs": [],
   "source": []
  }
 ],
 "metadata": {
  "kernelspec": {
   "display_name": "base",
   "language": "python",
   "name": "python3"
  },
  "language_info": {
   "codemirror_mode": {
    "name": "ipython",
    "version": 3
   },
   "file_extension": ".py",
   "mimetype": "text/x-python",
   "name": "python",
   "nbconvert_exporter": "python",
   "pygments_lexer": "ipython3",
   "version": "3.13.5"
  }
 },
 "nbformat": 4,
 "nbformat_minor": 5
}
